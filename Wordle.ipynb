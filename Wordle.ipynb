{
 "cells": [
  {
   "cell_type": "markdown",
   "id": "840bdc82",
   "metadata": {},
   "source": [
    "### Wordle Helper\n",
    "\n",
    "Let's create a Wordle Helper\n",
    "\n",
    "by Karthik Naga"
   ]
  },
  {
   "cell_type": "code",
   "execution_count": 1,
   "id": "9f642a2a",
   "metadata": {},
   "outputs": [],
   "source": [
    "import pandas as pd\n",
    "import numpy as np\n",
    "import matplotlib.pyplot as plt\n",
    "from collections import Counter"
   ]
  },
  {
   "cell_type": "code",
   "execution_count": 2,
   "id": "78150565",
   "metadata": {},
   "outputs": [
    {
     "data": {
      "text/html": [
       "<div>\n",
       "<style scoped>\n",
       "    .dataframe tbody tr th:only-of-type {\n",
       "        vertical-align: middle;\n",
       "    }\n",
       "\n",
       "    .dataframe tbody tr th {\n",
       "        vertical-align: top;\n",
       "    }\n",
       "\n",
       "    .dataframe thead th {\n",
       "        text-align: right;\n",
       "    }\n",
       "</style>\n",
       "<table border=\"1\" class=\"dataframe\">\n",
       "  <thead>\n",
       "    <tr style=\"text-align: right;\">\n",
       "      <th></th>\n",
       "      <th>Word</th>\n",
       "    </tr>\n",
       "  </thead>\n",
       "  <tbody>\n",
       "    <tr>\n",
       "      <th>0</th>\n",
       "      <td>aahed</td>\n",
       "    </tr>\n",
       "    <tr>\n",
       "      <th>1</th>\n",
       "      <td>aalii</td>\n",
       "    </tr>\n",
       "    <tr>\n",
       "      <th>2</th>\n",
       "      <td>aargh</td>\n",
       "    </tr>\n",
       "    <tr>\n",
       "      <th>3</th>\n",
       "      <td>aarti</td>\n",
       "    </tr>\n",
       "    <tr>\n",
       "      <th>4</th>\n",
       "      <td>abaca</td>\n",
       "    </tr>\n",
       "  </tbody>\n",
       "</table>\n",
       "</div>"
      ],
      "text/plain": [
       "    Word\n",
       "0  aahed\n",
       "1  aalii\n",
       "2  aargh\n",
       "3  aarti\n",
       "4  abaca"
      ]
     },
     "execution_count": 2,
     "metadata": {},
     "output_type": "execute_result"
    }
   ],
   "source": [
    "df = pd.read_csv('C:\\\\Users\\\\knaga\\\\Documents\\\\Karthik_Files\\\\Other\\\\Code\\\\Python\\\\Wordle\\\\words.csv')\n",
    "df.head()"
   ]
  },
  {
   "cell_type": "code",
   "execution_count": 3,
   "id": "38b31d3d",
   "metadata": {},
   "outputs": [
    {
     "data": {
      "text/html": [
       "<div>\n",
       "<style scoped>\n",
       "    .dataframe tbody tr th:only-of-type {\n",
       "        vertical-align: middle;\n",
       "    }\n",
       "\n",
       "    .dataframe tbody tr th {\n",
       "        vertical-align: top;\n",
       "    }\n",
       "\n",
       "    .dataframe thead th {\n",
       "        text-align: right;\n",
       "    }\n",
       "</style>\n",
       "<table border=\"1\" class=\"dataframe\">\n",
       "  <thead>\n",
       "    <tr style=\"text-align: right;\">\n",
       "      <th></th>\n",
       "      <th>Word</th>\n",
       "      <th>letter1</th>\n",
       "      <th>letter2</th>\n",
       "      <th>letter3</th>\n",
       "      <th>letter4</th>\n",
       "      <th>letter5</th>\n",
       "    </tr>\n",
       "  </thead>\n",
       "  <tbody>\n",
       "    <tr>\n",
       "      <th>count</th>\n",
       "      <td>12971</td>\n",
       "      <td>12971</td>\n",
       "      <td>12971</td>\n",
       "      <td>12971</td>\n",
       "      <td>12971</td>\n",
       "      <td>12971</td>\n",
       "    </tr>\n",
       "    <tr>\n",
       "      <th>unique</th>\n",
       "      <td>12971</td>\n",
       "      <td>26</td>\n",
       "      <td>26</td>\n",
       "      <td>26</td>\n",
       "      <td>26</td>\n",
       "      <td>26</td>\n",
       "    </tr>\n",
       "    <tr>\n",
       "      <th>top</th>\n",
       "      <td>aahed</td>\n",
       "      <td>s</td>\n",
       "      <td>a</td>\n",
       "      <td>a</td>\n",
       "      <td>e</td>\n",
       "      <td>s</td>\n",
       "    </tr>\n",
       "    <tr>\n",
       "      <th>freq</th>\n",
       "      <td>1</td>\n",
       "      <td>1565</td>\n",
       "      <td>2262</td>\n",
       "      <td>1236</td>\n",
       "      <td>2327</td>\n",
       "      <td>3958</td>\n",
       "    </tr>\n",
       "  </tbody>\n",
       "</table>\n",
       "</div>"
      ],
      "text/plain": [
       "         Word letter1 letter2 letter3 letter4 letter5\n",
       "count   12971   12971   12971   12971   12971   12971\n",
       "unique  12971      26      26      26      26      26\n",
       "top     aahed       s       a       a       e       s\n",
       "freq        1    1565    2262    1236    2327    3958"
      ]
     },
     "execution_count": 3,
     "metadata": {},
     "output_type": "execute_result"
    }
   ],
   "source": [
    "#break the letters up into columns for frequency metrics\n",
    "df[\"letter1\"] = df.Word.str[0]\n",
    "df[\"letter2\"] = df.Word.str[1]\n",
    "df[\"letter3\"] = df.Word.str[2]\n",
    "df[\"letter4\"] = df.Word.str[3]\n",
    "df[\"letter5\"] = df.Word.str[4]\n",
    "\n",
    "df.describe()"
   ]
  },
  {
   "cell_type": "code",
   "execution_count": 4,
   "id": "6a1d95af",
   "metadata": {},
   "outputs": [
    {
     "data": {
      "text/html": [
       "<div>\n",
       "<style scoped>\n",
       "    .dataframe tbody tr th:only-of-type {\n",
       "        vertical-align: middle;\n",
       "    }\n",
       "\n",
       "    .dataframe tbody tr th {\n",
       "        vertical-align: top;\n",
       "    }\n",
       "\n",
       "    .dataframe thead th {\n",
       "        text-align: right;\n",
       "    }\n",
       "</style>\n",
       "<table border=\"1\" class=\"dataframe\">\n",
       "  <thead>\n",
       "    <tr style=\"text-align: right;\">\n",
       "      <th></th>\n",
       "      <th>Word</th>\n",
       "      <th>letter1</th>\n",
       "      <th>letter2</th>\n",
       "      <th>letter3</th>\n",
       "      <th>letter4</th>\n",
       "      <th>letter5</th>\n",
       "    </tr>\n",
       "  </thead>\n",
       "  <tbody>\n",
       "    <tr>\n",
       "      <th>12966</th>\n",
       "      <td>zuzim</td>\n",
       "      <td>z</td>\n",
       "      <td>u</td>\n",
       "      <td>z</td>\n",
       "      <td>i</td>\n",
       "      <td>m</td>\n",
       "    </tr>\n",
       "    <tr>\n",
       "      <th>12967</th>\n",
       "      <td>zygal</td>\n",
       "      <td>z</td>\n",
       "      <td>y</td>\n",
       "      <td>g</td>\n",
       "      <td>a</td>\n",
       "      <td>l</td>\n",
       "    </tr>\n",
       "    <tr>\n",
       "      <th>12968</th>\n",
       "      <td>zygon</td>\n",
       "      <td>z</td>\n",
       "      <td>y</td>\n",
       "      <td>g</td>\n",
       "      <td>o</td>\n",
       "      <td>n</td>\n",
       "    </tr>\n",
       "    <tr>\n",
       "      <th>12969</th>\n",
       "      <td>zymes</td>\n",
       "      <td>z</td>\n",
       "      <td>y</td>\n",
       "      <td>m</td>\n",
       "      <td>e</td>\n",
       "      <td>s</td>\n",
       "    </tr>\n",
       "    <tr>\n",
       "      <th>12970</th>\n",
       "      <td>zymic</td>\n",
       "      <td>z</td>\n",
       "      <td>y</td>\n",
       "      <td>m</td>\n",
       "      <td>i</td>\n",
       "      <td>c</td>\n",
       "    </tr>\n",
       "  </tbody>\n",
       "</table>\n",
       "</div>"
      ],
      "text/plain": [
       "        Word letter1 letter2 letter3 letter4 letter5\n",
       "12966  zuzim       z       u       z       i       m\n",
       "12967  zygal       z       y       g       a       l\n",
       "12968  zygon       z       y       g       o       n\n",
       "12969  zymes       z       y       m       e       s\n",
       "12970  zymic       z       y       m       i       c"
      ]
     },
     "execution_count": 4,
     "metadata": {},
     "output_type": "execute_result"
    }
   ],
   "source": [
    "df.tail()"
   ]
  },
  {
   "cell_type": "code",
   "execution_count": 5,
   "id": "5e4029e8",
   "metadata": {},
   "outputs": [],
   "source": [
    "# create a new dataframe that has a column of all of the letters so that we can count the freq of each letter\n",
    "wordle_melted = pd.melt(df, id_vars=['Word'], value_vars=['letter1','letter2','letter3','letter4','letter5'], value_name='Letters')"
   ]
  },
  {
   "cell_type": "code",
   "execution_count": 6,
   "id": "e16f97b5",
   "metadata": {},
   "outputs": [
    {
     "data": {
      "text/html": [
       "<div>\n",
       "<style scoped>\n",
       "    .dataframe tbody tr th:only-of-type {\n",
       "        vertical-align: middle;\n",
       "    }\n",
       "\n",
       "    .dataframe tbody tr th {\n",
       "        vertical-align: top;\n",
       "    }\n",
       "\n",
       "    .dataframe thead th {\n",
       "        text-align: right;\n",
       "    }\n",
       "</style>\n",
       "<table border=\"1\" class=\"dataframe\">\n",
       "  <thead>\n",
       "    <tr style=\"text-align: right;\">\n",
       "      <th></th>\n",
       "      <th>Word</th>\n",
       "      <th>variable</th>\n",
       "      <th>Letters</th>\n",
       "    </tr>\n",
       "  </thead>\n",
       "  <tbody>\n",
       "    <tr>\n",
       "      <th>64850</th>\n",
       "      <td>zuzim</td>\n",
       "      <td>letter5</td>\n",
       "      <td>m</td>\n",
       "    </tr>\n",
       "    <tr>\n",
       "      <th>64851</th>\n",
       "      <td>zygal</td>\n",
       "      <td>letter5</td>\n",
       "      <td>l</td>\n",
       "    </tr>\n",
       "    <tr>\n",
       "      <th>64852</th>\n",
       "      <td>zygon</td>\n",
       "      <td>letter5</td>\n",
       "      <td>n</td>\n",
       "    </tr>\n",
       "    <tr>\n",
       "      <th>64853</th>\n",
       "      <td>zymes</td>\n",
       "      <td>letter5</td>\n",
       "      <td>s</td>\n",
       "    </tr>\n",
       "    <tr>\n",
       "      <th>64854</th>\n",
       "      <td>zymic</td>\n",
       "      <td>letter5</td>\n",
       "      <td>c</td>\n",
       "    </tr>\n",
       "  </tbody>\n",
       "</table>\n",
       "</div>"
      ],
      "text/plain": [
       "        Word variable Letters\n",
       "64850  zuzim  letter5       m\n",
       "64851  zygal  letter5       l\n",
       "64852  zygon  letter5       n\n",
       "64853  zymes  letter5       s\n",
       "64854  zymic  letter5       c"
      ]
     },
     "execution_count": 6,
     "metadata": {},
     "output_type": "execute_result"
    }
   ],
   "source": [
    "wordle_melted.tail()"
   ]
  },
  {
   "cell_type": "code",
   "execution_count": 7,
   "id": "d74969d9",
   "metadata": {
    "scrolled": true
   },
   "outputs": [],
   "source": [
    "#create a new dataframe that has the freq (or points) of each of the letters\n",
    "letter_freq = \\\n",
    "wordle_melted.groupby('Letters') \\\n",
    "             .count() \\\n",
    "             .reset_index() \\\n",
    "             .sort_values(['Word'], ascending=False) \\\n",
    "             .drop(columns=['variable']) \\\n",
    "             .rename(columns={\"Word\": \"Points\"}) \\\n",
    "             .set_index('Letters')"
   ]
  },
  {
   "cell_type": "code",
   "execution_count": 8,
   "id": "4fbef6d5",
   "metadata": {},
   "outputs": [],
   "source": [
    "assert letter_freq.loc['x','Points'] == 288"
   ]
  },
  {
   "cell_type": "code",
   "execution_count": 9,
   "id": "b240c0a0",
   "metadata": {},
   "outputs": [],
   "source": [
    "# these are helper functions that accept a pandas series\n",
    "\n",
    "#   and return each of the string's points \n",
    "@np.vectorize\n",
    "def get_points(str):\n",
    "    points = 0\n",
    "    for letter in str:\n",
    "        points += letter_freq.loc[letter,'Points']        \n",
    "    return points\n",
    "\n",
    "#   and whether it has unique or repeating strings\n",
    "@np.vectorize\n",
    "def unique_letters(str):\n",
    "    freq = Counter(str)\n",
    "    return len(freq) == 5\n"
   ]
  },
  {
   "cell_type": "code",
   "execution_count": 10,
   "id": "cfa4348d",
   "metadata": {},
   "outputs": [],
   "source": [
    "assert get_points('aahed') == 22852"
   ]
  },
  {
   "cell_type": "code",
   "execution_count": 11,
   "id": "9854b7e6",
   "metadata": {},
   "outputs": [],
   "source": [
    "# create new columns in the original data frame based on the calculations, and set Alive to True for each word\n",
    "\n",
    "df[\"Points\"] = df[\"Word\"].apply(get_points)\n",
    "df[\"UniqueLetters\"] = df[\"Word\"].apply(unique_letters)\n",
    "df[\"Alive\"] = True\n",
    "\n",
    "# drop the columns that contains each letter as that is no longer needed\n",
    "df.drop(columns=[\"letter1\",\"letter2\",\"letter3\",\"letter4\",\"letter5\"], inplace=True)"
   ]
  },
  {
   "cell_type": "code",
   "execution_count": 12,
   "id": "1c05cf41",
   "metadata": {},
   "outputs": [
    {
     "data": {
      "text/html": [
       "<div>\n",
       "<style scoped>\n",
       "    .dataframe tbody tr th:only-of-type {\n",
       "        vertical-align: middle;\n",
       "    }\n",
       "\n",
       "    .dataframe tbody tr th {\n",
       "        vertical-align: top;\n",
       "    }\n",
       "\n",
       "    .dataframe thead th {\n",
       "        text-align: right;\n",
       "    }\n",
       "</style>\n",
       "<table border=\"1\" class=\"dataframe\">\n",
       "  <thead>\n",
       "    <tr style=\"text-align: right;\">\n",
       "      <th></th>\n",
       "      <th>Word</th>\n",
       "      <th>Points</th>\n",
       "      <th>UniqueLetters</th>\n",
       "      <th>Alive</th>\n",
       "    </tr>\n",
       "  </thead>\n",
       "  <tbody>\n",
       "    <tr>\n",
       "      <th>12966</th>\n",
       "      <td>zuzim</td>\n",
       "      <td>9114</td>\n",
       "      <td>False</td>\n",
       "      <td>True</td>\n",
       "    </tr>\n",
       "    <tr>\n",
       "      <th>12967</th>\n",
       "      <td>zygal</td>\n",
       "      <td>13511</td>\n",
       "      <td>True</td>\n",
       "      <td>True</td>\n",
       "    </tr>\n",
       "    <tr>\n",
       "      <th>12968</th>\n",
       "      <td>zygon</td>\n",
       "      <td>11542</td>\n",
       "      <td>True</td>\n",
       "      <td>True</td>\n",
       "    </tr>\n",
       "    <tr>\n",
       "      <th>12969</th>\n",
       "      <td>zymes</td>\n",
       "      <td>17809</td>\n",
       "      <td>True</td>\n",
       "      <td>True</td>\n",
       "    </tr>\n",
       "    <tr>\n",
       "      <th>12970</th>\n",
       "      <td>zymic</td>\n",
       "      <td>10271</td>\n",
       "      <td>True</td>\n",
       "      <td>True</td>\n",
       "    </tr>\n",
       "  </tbody>\n",
       "</table>\n",
       "</div>"
      ],
      "text/plain": [
       "        Word  Points  UniqueLetters  Alive\n",
       "12966  zuzim    9114          False   True\n",
       "12967  zygal   13511           True   True\n",
       "12968  zygon   11542           True   True\n",
       "12969  zymes   17809           True   True\n",
       "12970  zymic   10271           True   True"
      ]
     },
     "execution_count": 12,
     "metadata": {},
     "output_type": "execute_result"
    }
   ],
   "source": [
    "df.tail()"
   ]
  },
  {
   "cell_type": "code",
   "execution_count": 13,
   "id": "5c1cfa1a",
   "metadata": {},
   "outputs": [],
   "source": [
    "# sets the current game back to the default (meaning all words are still 'alive')\n",
    "def reset_current_game():\n",
    "    return df.copy()\n",
    "\n",
    "# this function returns the words with the 15 highest points...\n",
    "#   unique is an attribute that sets whether or not we are looking for words with all unique letters\n",
    "def show_best_options(df, unique=False):\n",
    "    if unique:\n",
    "        print(df[df.Alive & df.UniqueLetters].nlargest(15, 'Points'))\n",
    "    else:\n",
    "        print(df[df.Alive].nlargest(15, 'Points'))\n"
   ]
  },
  {
   "cell_type": "code",
   "execution_count": 14,
   "id": "90516967",
   "metadata": {},
   "outputs": [],
   "source": [
    "# these functions set Alive to false (remove them from possible words) depending on the results of the game\n",
    "\n",
    "@np.vectorize\n",
    "def letter_remove(letter):\n",
    "    # Set Alive to False for all words that contain letter\n",
    "    current_options.loc[current_options['Word'].str.contains(letter), 'Alive'] = False\n",
    "\n",
    "@np.vectorize\n",
    "def letter_confirmed(letter, pos):\n",
    "    # Set Alive to False for all words that do not contain letter in pos\n",
    "    rgexp = '.....'\n",
    "    rgexp = rgexp[:pos-1] + letter + rgexp[pos:]\n",
    "    current_options.loc[~current_options['Word'].str.contains(pat=rgexp, regex = True), 'Alive'] = False\n",
    "\n",
    "@np.vectorize\n",
    "def letter_exists(letter):\n",
    "    # Set Alive to False for all words that do not contain letter\n",
    "    current_options.loc[~current_options['Word'].str.contains(letter), 'Alive'] = False\n"
   ]
  },
  {
   "cell_type": "code",
   "execution_count": 16,
   "id": "1af6eae4",
   "metadata": {},
   "outputs": [
    {
     "name": "stdout",
     "output_type": "stream",
     "text": [
      "        Word  Points  UniqueLetters  Alive\n",
      "140    aeros   27910           True   True\n",
      "549    arose   27910           True   True\n",
      "10363  soare   27910           True   True\n",
      "141    aesir   27231           True   True\n",
      "533    arise   27231           True   True\n",
      "8858   raise   27231           True   True\n",
      "8966   reais   27231           True   True\n",
      "9799   serai   27231           True   True\n",
      "317    aloes   27122           True   True\n",
      "10740  stoae   27047           True   True\n",
      "11447  toeas   27047           True   True\n",
      "537    arles   26842           True   True\n",
      "3261   earls   26842           True   True\n",
      "6042   laers   26842           True   True\n",
      "6095   lares   26842           True   True\n"
     ]
    }
   ],
   "source": [
    "#reset the game board\n",
    "current_options = reset_current_game()\n",
    "\n",
    "show_best_options(current_options, unique=True)"
   ]
  },
  {
   "cell_type": "code",
   "execution_count": 25,
   "id": "514cfde3",
   "metadata": {},
   "outputs": [
    {
     "data": {
      "text/plain": [
       "array(None, dtype=object)"
      ]
     },
     "execution_count": 25,
     "metadata": {},
     "output_type": "execute_result"
    }
   ],
   "source": [
    "# LET'S PLAY!\n",
    "# Use the three functions to help the program remove the right words from the possible answer list\n",
    "\n",
    "#letter_exists('l')\n",
    "#letter_exists('a')\n",
    "#letter_remove('i')\n",
    "letter_remove('d')\n",
    "letter_remove('p')\n",
    "letter_remove('g')\n",
    "letter_remove('d')\n",
    "letter_confirmed('e', 5)\n",
    "letter_confirmed('r', 2)\n",
    "letter_confirmed('a', 3)\n"
   ]
  },
  {
   "cell_type": "code",
   "execution_count": 26,
   "id": "6ee48556",
   "metadata": {},
   "outputs": [
    {
     "name": "stdout",
     "output_type": "stream",
     "text": [
      "        Word  Points  UniqueLetters  Alive\n",
      "490    arame   24773          False   True\n",
      "11969  urare   23477          False   True\n",
      "1415   brame   20411           True   True\n",
      "1412   brake   19940           True   True\n",
      "4023   frame   19898           True   True\n",
      "1426   brave   19129           True   True\n",
      "1435   braze   18869           True   True\n"
     ]
    }
   ],
   "source": [
    "show_best_options(current_options, False)"
   ]
  }
 ],
 "metadata": {
  "kernelspec": {
   "display_name": "Python 3 (ipykernel)",
   "language": "python",
   "name": "python3"
  },
  "language_info": {
   "codemirror_mode": {
    "name": "ipython",
    "version": 3
   },
   "file_extension": ".py",
   "mimetype": "text/x-python",
   "name": "python",
   "nbconvert_exporter": "python",
   "pygments_lexer": "ipython3",
   "version": "3.9.10"
  }
 },
 "nbformat": 4,
 "nbformat_minor": 5
}
